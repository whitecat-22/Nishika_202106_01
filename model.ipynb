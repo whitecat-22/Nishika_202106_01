{
 "metadata": {
  "language_info": {
   "codemirror_mode": {
    "name": "ipython",
    "version": 3
   },
   "file_extension": ".py",
   "mimetype": "text/x-python",
   "name": "python",
   "nbconvert_exporter": "python",
   "pygments_lexer": "ipython3",
   "version": "3.9.5"
  },
  "orig_nbformat": 4,
  "kernelspec": {
   "name": "python3",
   "display_name": "Python 3.9.5 64-bit"
  },
  "interpreter": {
   "hash": "f2579c6719f064adec7aa7c2074a479704773fd963c0177ad2b16a81832eb5d2"
  }
 },
 "nbformat": 4,
 "nbformat_minor": 2,
 "cells": [
  {
   "cell_type": "code",
   "execution_count": 119,
   "metadata": {},
   "outputs": [],
   "source": [
    "import glob\n",
    "import pandas as pd\n",
    "import numpy as np\n",
    "import matplotlib.pyplot as plt\n",
    "import seaborn as sns\n",
    "%matplotlib inline"
   ]
  },
  {
   "cell_type": "code",
   "execution_count": 120,
   "metadata": {},
   "outputs": [
    {
     "output_type": "stream",
     "name": "stderr",
     "text": [
      "C:\\Users\\hiro2\\AppData\\Local\\Programs\\Python\\Python39\\lib\\site-packages\\IPython\\core\\interactiveshell.py:3169: DtypeWarning: Columns (10) have mixed types.Specify dtype option on import or set low_memory=False.\n  has_raised = await self.run_ast_nodes(code_ast.body, cell_name,\n"
     ]
    }
   ],
   "source": [
    "files = glob.glob(\"train/*.csv\")\n",
    "data_list = []\n",
    "for file in files:\n",
    "    data_list.append(pd.read_csv(file, index_col=0))\n",
    "df = pd.concat(data_list)"
   ]
  },
  {
   "cell_type": "code",
   "execution_count": 121,
   "metadata": {},
   "outputs": [
    {
     "output_type": "stream",
     "name": "stdout",
     "text": [
      "<class 'pandas.core.frame.DataFrame'>\nInt64Index: 651975 entries, 1117225 to 47001939\nData columns (total 27 columns):\n #   Column        Non-Null Count   Dtype  \n---  ------        --------------   -----  \n 0   種類            651975 non-null  object \n 1   地域            0 non-null       float64\n 2   市区町村コード       651975 non-null  int64  \n 3   都道府県名         651975 non-null  object \n 4   市区町村名         651975 non-null  object \n 5   地区名           651318 non-null  object \n 6   最寄駅：名称        649342 non-null  object \n 7   最寄駅：距離（分）     628916 non-null  object \n 8   間取り           629546 non-null  object \n 9   面積（㎡）         651975 non-null  object \n 10  土地の形状         0 non-null       float64\n 11  間口            0 non-null       float64\n 12  延床面積（㎡）       0 non-null       float64\n 13  建築年           633280 non-null  object \n 14  建物の構造         637098 non-null  object \n 15  用途            601333 non-null  object \n 16  今後の利用目的       288948 non-null  object \n 17  前面道路：方位       0 non-null       float64\n 18  前面道路：種類       0 non-null       float64\n 19  前面道路：幅員（ｍ）    0 non-null       float64\n 20  都市計画          633162 non-null  object \n 21  建ぺい率（％）       629168 non-null  float64\n 22  容積率（％）        629168 non-null  float64\n 23  取引時点          651975 non-null  object \n 24  改装            593301 non-null  object \n 25  取引の事情等        18397 non-null   object \n 26  取引価格（総額）_log  651975 non-null  float64\ndtypes: float64(10), int64(1), object(16)\nmemory usage: 139.3+ MB\n"
     ]
    }
   ],
   "source": [
    "df.info()"
   ]
  },
  {
   "cell_type": "code",
   "execution_count": 122,
   "metadata": {},
   "outputs": [
    {
     "output_type": "execute_result",
     "data": {
      "text/plain": [
       "               種類  地域  市区町村コード 都道府県名   市区町村名   地区名 最寄駅：名称 最寄駅：距離（分）   間取り  \\\n",
       "ID                                                                          \n",
       "1117225  中古マンション等 NaN     1213   北海道    苫小牧市  新中野町    苫小牧        25  ３ＬＤＫ   \n",
       "1001180  中古マンション等 NaN     1101   北海道  札幌市中央区  北２条西  西２８丁目         8  ４ＬＤＫ   \n",
       "1099061  中古マンション等 NaN     1207   北海道     帯広市  西３条南     帯広         2  ２ＬＤＫ   \n",
       "1039968  中古マンション等 NaN     1105   北海道  札幌市豊平区  平岸２条    南平岸         6  ３ＬＤＫ   \n",
       "1072923  中古マンション等 NaN     1202   北海道     函館市   梁川町    五稜郭   30分?60分  ２ＬＤＫ   \n",
       "\n",
       "        面積（㎡）  ...  前面道路：方位  前面道路：種類  前面道路：幅員（ｍ）    都市計画 建ぺい率（％） 容積率（％）  \\\n",
       "ID             ...                                                        \n",
       "1117225   120  ...      NaN      NaN         NaN   準工業地域    60.0  200.0   \n",
       "1001180   150  ...      NaN      NaN         NaN  近隣商業地域    80.0  300.0   \n",
       "1099061    80  ...      NaN      NaN         NaN    商業地域    80.0  500.0   \n",
       "1039968    90  ...      NaN      NaN         NaN  近隣商業地域    80.0  300.0   \n",
       "1072923    70  ...      NaN      NaN         NaN    商業地域    80.0  400.0   \n",
       "\n",
       "               取引時点   改装  取引の事情等  取引価格（総額）_log  \n",
       "ID                                              \n",
       "1117225  2018年第３四半期  未改装     NaN      7.431364  \n",
       "1001180  2018年第３四半期  未改装     NaN      7.568202  \n",
       "1099061  2016年第２四半期  未改装     NaN      7.204120  \n",
       "1039968  2018年第４四半期  改装済     NaN      7.447158  \n",
       "1072923  2015年第１四半期  未改装     NaN      7.322219  \n",
       "\n",
       "[5 rows x 27 columns]"
      ],
      "text/html": "<div>\n<style scoped>\n    .dataframe tbody tr th:only-of-type {\n        vertical-align: middle;\n    }\n\n    .dataframe tbody tr th {\n        vertical-align: top;\n    }\n\n    .dataframe thead th {\n        text-align: right;\n    }\n</style>\n<table border=\"1\" class=\"dataframe\">\n  <thead>\n    <tr style=\"text-align: right;\">\n      <th></th>\n      <th>種類</th>\n      <th>地域</th>\n      <th>市区町村コード</th>\n      <th>都道府県名</th>\n      <th>市区町村名</th>\n      <th>地区名</th>\n      <th>最寄駅：名称</th>\n      <th>最寄駅：距離（分）</th>\n      <th>間取り</th>\n      <th>面積（㎡）</th>\n      <th>...</th>\n      <th>前面道路：方位</th>\n      <th>前面道路：種類</th>\n      <th>前面道路：幅員（ｍ）</th>\n      <th>都市計画</th>\n      <th>建ぺい率（％）</th>\n      <th>容積率（％）</th>\n      <th>取引時点</th>\n      <th>改装</th>\n      <th>取引の事情等</th>\n      <th>取引価格（総額）_log</th>\n    </tr>\n    <tr>\n      <th>ID</th>\n      <th></th>\n      <th></th>\n      <th></th>\n      <th></th>\n      <th></th>\n      <th></th>\n      <th></th>\n      <th></th>\n      <th></th>\n      <th></th>\n      <th></th>\n      <th></th>\n      <th></th>\n      <th></th>\n      <th></th>\n      <th></th>\n      <th></th>\n      <th></th>\n      <th></th>\n      <th></th>\n      <th></th>\n    </tr>\n  </thead>\n  <tbody>\n    <tr>\n      <th>1117225</th>\n      <td>中古マンション等</td>\n      <td>NaN</td>\n      <td>1213</td>\n      <td>北海道</td>\n      <td>苫小牧市</td>\n      <td>新中野町</td>\n      <td>苫小牧</td>\n      <td>25</td>\n      <td>３ＬＤＫ</td>\n      <td>120</td>\n      <td>...</td>\n      <td>NaN</td>\n      <td>NaN</td>\n      <td>NaN</td>\n      <td>準工業地域</td>\n      <td>60.0</td>\n      <td>200.0</td>\n      <td>2018年第３四半期</td>\n      <td>未改装</td>\n      <td>NaN</td>\n      <td>7.431364</td>\n    </tr>\n    <tr>\n      <th>1001180</th>\n      <td>中古マンション等</td>\n      <td>NaN</td>\n      <td>1101</td>\n      <td>北海道</td>\n      <td>札幌市中央区</td>\n      <td>北２条西</td>\n      <td>西２８丁目</td>\n      <td>8</td>\n      <td>４ＬＤＫ</td>\n      <td>150</td>\n      <td>...</td>\n      <td>NaN</td>\n      <td>NaN</td>\n      <td>NaN</td>\n      <td>近隣商業地域</td>\n      <td>80.0</td>\n      <td>300.0</td>\n      <td>2018年第３四半期</td>\n      <td>未改装</td>\n      <td>NaN</td>\n      <td>7.568202</td>\n    </tr>\n    <tr>\n      <th>1099061</th>\n      <td>中古マンション等</td>\n      <td>NaN</td>\n      <td>1207</td>\n      <td>北海道</td>\n      <td>帯広市</td>\n      <td>西３条南</td>\n      <td>帯広</td>\n      <td>2</td>\n      <td>２ＬＤＫ</td>\n      <td>80</td>\n      <td>...</td>\n      <td>NaN</td>\n      <td>NaN</td>\n      <td>NaN</td>\n      <td>商業地域</td>\n      <td>80.0</td>\n      <td>500.0</td>\n      <td>2016年第２四半期</td>\n      <td>未改装</td>\n      <td>NaN</td>\n      <td>7.204120</td>\n    </tr>\n    <tr>\n      <th>1039968</th>\n      <td>中古マンション等</td>\n      <td>NaN</td>\n      <td>1105</td>\n      <td>北海道</td>\n      <td>札幌市豊平区</td>\n      <td>平岸２条</td>\n      <td>南平岸</td>\n      <td>6</td>\n      <td>３ＬＤＫ</td>\n      <td>90</td>\n      <td>...</td>\n      <td>NaN</td>\n      <td>NaN</td>\n      <td>NaN</td>\n      <td>近隣商業地域</td>\n      <td>80.0</td>\n      <td>300.0</td>\n      <td>2018年第４四半期</td>\n      <td>改装済</td>\n      <td>NaN</td>\n      <td>7.447158</td>\n    </tr>\n    <tr>\n      <th>1072923</th>\n      <td>中古マンション等</td>\n      <td>NaN</td>\n      <td>1202</td>\n      <td>北海道</td>\n      <td>函館市</td>\n      <td>梁川町</td>\n      <td>五稜郭</td>\n      <td>30分?60分</td>\n      <td>２ＬＤＫ</td>\n      <td>70</td>\n      <td>...</td>\n      <td>NaN</td>\n      <td>NaN</td>\n      <td>NaN</td>\n      <td>商業地域</td>\n      <td>80.0</td>\n      <td>400.0</td>\n      <td>2015年第１四半期</td>\n      <td>未改装</td>\n      <td>NaN</td>\n      <td>7.322219</td>\n    </tr>\n  </tbody>\n</table>\n<p>5 rows × 27 columns</p>\n</div>"
     },
     "metadata": {},
     "execution_count": 122
    }
   ],
   "source": [
    "df.head()"
   ]
  },
  {
   "cell_type": "code",
   "execution_count": 123,
   "metadata": {},
   "outputs": [],
   "source": [
    "def data_pre(df):\n",
    "\n",
    "    nonnull_list = []\n",
    "\n",
    "    for col in df.columns:\n",
    "        nonnull = df[col].count()\n",
    "        if nonnull == 0:\n",
    "            nonnull_list.append(col)\n",
    "\n",
    "    df = df.drop(nonnull_list, axis=1)\n",
    "\n",
    "    df = df.drop(\"市区町村名\", axis=1)\n",
    "\n",
    "    df = df.drop(\"種類\", axis=1)\n",
    "\n",
    "    dis = {\n",
    "        \"30分?60分\" : 45,\n",
    "        \"1H?1H30\" : 75,\n",
    "        \"2H?\" : 120,\n",
    "        \"1H30?2H\": 105,\n",
    "    }\n",
    "\n",
    "    df[\"最寄駅：距離（分）\"] = df[\"最寄駅：距離（分）\"].replace(dis).astype(float)\n",
    "\n",
    "    df[\"面積（㎡）\"] = df[\"面積（㎡）\"].replace(\"2000㎡以上\", 2000).astype(float)\n",
    "\n",
    "    y_list = {}\n",
    "    for i in df[\"建築年\"].value_counts().keys():\n",
    "        if \"平成\" in i:\n",
    "            num = float(i.split(\"平成\")[1].split(\"年\")[0])\n",
    "            year = 33 - num\n",
    "        if \"令和\" in i:\n",
    "            num = float(i.split(\"令和\")[1].split(\"年\")[0])\n",
    "            year = 3 - num\n",
    "        if \"昭和\" in i:\n",
    "            num = float(i.split(\"昭和\")[1].split(\"年\")[0])\n",
    "            year = 96 - num\n",
    "        y_list[i] = year\n",
    "    y_list[\"戦前\"] = 76\n",
    "    df[\"建築年\"] = df[\"建築年\"].replace(y_list)\n",
    "\n",
    "    year = {\n",
    "        \"年第１四半期\": \".25\",\n",
    "        \"年第２四半期\": \".50\",\n",
    "        \"年第３四半期\": \".75\",\n",
    "        \"年第４四半期\": \".99\"\n",
    "    }\n",
    "    year_list = {}\n",
    "    for i in df[\"取引時点\"].value_counts().keys():\n",
    "        for k, j in year.items():\n",
    "            if k in i:\n",
    "                year_rep = i.replace(k, j)\n",
    "        year_list[i] = year_rep\n",
    "    year_list\n",
    "    df[\"取引時点\"] = df[\"取引時点\"].replace(year_list).astype(float)\n",
    "    \n",
    "    for col in [\"都道府県名\", \"地区名\", \"最寄駅：名称\", \"間取り\", \"建物の構造\", \"用途\", \"今後の利用目的\", \"都市計画\", \"改装\", \"取引の事情等\"]:\n",
    "        df[col] = df[col].astype(\"category\")\n",
    "    \n",
    "    return df"
   ]
  },
  {
   "cell_type": "code",
   "execution_count": 124,
   "metadata": {},
   "outputs": [
    {
     "output_type": "stream",
     "name": "stdout",
     "text": [
      "<class 'pandas.core.frame.DataFrame'>\nInt64Index: 651975 entries, 1117225 to 47001939\nData columns (total 18 columns):\n #   Column        Non-Null Count   Dtype   \n---  ------        --------------   -----   \n 0   市区町村コード       651975 non-null  int64   \n 1   都道府県名         651975 non-null  category\n 2   地区名           651318 non-null  category\n 3   最寄駅：名称        649342 non-null  category\n 4   最寄駅：距離（分）     628916 non-null  float64 \n 5   間取り           629546 non-null  category\n 6   面積（㎡）         651975 non-null  float64 \n 7   建築年           633280 non-null  float64 \n 8   建物の構造         637098 non-null  category\n 9   用途            601333 non-null  category\n 10  今後の利用目的       288948 non-null  category\n 11  都市計画          633162 non-null  category\n 12  建ぺい率（％）       629168 non-null  float64 \n 13  容積率（％）        629168 non-null  float64 \n 14  取引時点          651975 non-null  float64 \n 15  改装            593301 non-null  category\n 16  取引の事情等        18397 non-null   category\n 17  取引価格（総額）_log  651975 non-null  float64 \ndtypes: category(10), float64(7), int64(1)\nmemory usage: 52.7 MB\n"
     ]
    },
    {
     "output_type": "execute_result",
     "data": {
      "text/plain": [
       "          市区町村コード 都道府県名    地区名 最寄駅：名称  最寄駅：距離（分）   間取り  面積（㎡）   建築年 建物の構造  \\\n",
       "ID                                                                          \n",
       "1117225      1213   北海道   新中野町    苫小牧       25.0  ３ＬＤＫ  120.0  12.0    ＲＣ   \n",
       "1001180      1101   北海道   北２条西  西２８丁目        8.0  ４ＬＤＫ  150.0  19.0   ＳＲＣ   \n",
       "1099061      1207   北海道   西３条南     帯広        2.0  ２ＬＤＫ   80.0  19.0    ＲＣ   \n",
       "1039968      1105   北海道   平岸２条    南平岸        6.0  ３ＬＤＫ   90.0  24.0   NaN   \n",
       "1072923      1202   北海道    梁川町    五稜郭       45.0  ２ＬＤＫ   70.0   9.0    ＲＣ   \n",
       "...           ...   ...    ...    ...        ...   ...    ...   ...   ...   \n",
       "47006116    47211   沖縄県     泡瀬    NaN        NaN  ３ＬＤＫ  115.0  15.0    ＲＣ   \n",
       "47016927    47201   沖縄県    宇栄原     赤嶺        7.0  ３ＬＤＫ   65.0  30.0    ＲＣ   \n",
       "47027045    47201   沖縄県  おもろまち  おもろまち       12.0  ２ＬＤＫ   65.0  22.0    ＲＣ   \n",
       "47001625    47201   沖縄県     牧志     牧志        1.0  ２ＬＤＫ   85.0  11.0    ＲＣ   \n",
       "47001939    47201   沖縄県     寄宮     安里       21.0  ３ＬＤＫ   55.0  46.0   ＳＲＣ   \n",
       "\n",
       "           用途 今後の利用目的          都市計画  建ぺい率（％）  容積率（％）     取引時点   改装 取引の事情等  \\\n",
       "ID                                                                          \n",
       "1117225    住宅      住宅         準工業地域     60.0   200.0  2018.75  未改装    NaN   \n",
       "1001180   NaN      住宅        近隣商業地域     80.0   300.0  2018.75  未改装    NaN   \n",
       "1099061    住宅      住宅          商業地域     80.0   500.0  2016.50  未改装    NaN   \n",
       "1039968    住宅      住宅        近隣商業地域     80.0   300.0  2018.99  改装済    NaN   \n",
       "1072923    住宅      住宅          商業地域     80.0   400.0  2015.25  未改装    NaN   \n",
       "...       ...     ...           ...      ...     ...      ...  ...    ...   \n",
       "47006116   住宅      住宅  第１種中高層住居専用地域     60.0   200.0  2016.50  未改装    NaN   \n",
       "47016927   住宅     NaN           NaN      NaN     NaN  2011.75  改装済    NaN   \n",
       "47027045   住宅     NaN          商業地域     80.0   400.0  2009.25  改装済    NaN   \n",
       "47001625   住宅     その他          商業地域      NaN     NaN  2017.50  未改装    NaN   \n",
       "47001939  NaN     その他  第１種中高層住居専用地域     60.0   200.0  2019.99  NaN    NaN   \n",
       "\n",
       "          取引価格（総額）_log  \n",
       "ID                      \n",
       "1117225       7.431364  \n",
       "1001180       7.568202  \n",
       "1099061       7.204120  \n",
       "1039968       7.447158  \n",
       "1072923       7.322219  \n",
       "...                ...  \n",
       "47006116      7.230449  \n",
       "47016927      7.176091  \n",
       "47027045      7.477121  \n",
       "47001625      7.748188  \n",
       "47001939      6.662758  \n",
       "\n",
       "[651975 rows x 18 columns]"
      ],
      "text/html": "<div>\n<style scoped>\n    .dataframe tbody tr th:only-of-type {\n        vertical-align: middle;\n    }\n\n    .dataframe tbody tr th {\n        vertical-align: top;\n    }\n\n    .dataframe thead th {\n        text-align: right;\n    }\n</style>\n<table border=\"1\" class=\"dataframe\">\n  <thead>\n    <tr style=\"text-align: right;\">\n      <th></th>\n      <th>市区町村コード</th>\n      <th>都道府県名</th>\n      <th>地区名</th>\n      <th>最寄駅：名称</th>\n      <th>最寄駅：距離（分）</th>\n      <th>間取り</th>\n      <th>面積（㎡）</th>\n      <th>建築年</th>\n      <th>建物の構造</th>\n      <th>用途</th>\n      <th>今後の利用目的</th>\n      <th>都市計画</th>\n      <th>建ぺい率（％）</th>\n      <th>容積率（％）</th>\n      <th>取引時点</th>\n      <th>改装</th>\n      <th>取引の事情等</th>\n      <th>取引価格（総額）_log</th>\n    </tr>\n    <tr>\n      <th>ID</th>\n      <th></th>\n      <th></th>\n      <th></th>\n      <th></th>\n      <th></th>\n      <th></th>\n      <th></th>\n      <th></th>\n      <th></th>\n      <th></th>\n      <th></th>\n      <th></th>\n      <th></th>\n      <th></th>\n      <th></th>\n      <th></th>\n      <th></th>\n      <th></th>\n    </tr>\n  </thead>\n  <tbody>\n    <tr>\n      <th>1117225</th>\n      <td>1213</td>\n      <td>北海道</td>\n      <td>新中野町</td>\n      <td>苫小牧</td>\n      <td>25.0</td>\n      <td>３ＬＤＫ</td>\n      <td>120.0</td>\n      <td>12.0</td>\n      <td>ＲＣ</td>\n      <td>住宅</td>\n      <td>住宅</td>\n      <td>準工業地域</td>\n      <td>60.0</td>\n      <td>200.0</td>\n      <td>2018.75</td>\n      <td>未改装</td>\n      <td>NaN</td>\n      <td>7.431364</td>\n    </tr>\n    <tr>\n      <th>1001180</th>\n      <td>1101</td>\n      <td>北海道</td>\n      <td>北２条西</td>\n      <td>西２８丁目</td>\n      <td>8.0</td>\n      <td>４ＬＤＫ</td>\n      <td>150.0</td>\n      <td>19.0</td>\n      <td>ＳＲＣ</td>\n      <td>NaN</td>\n      <td>住宅</td>\n      <td>近隣商業地域</td>\n      <td>80.0</td>\n      <td>300.0</td>\n      <td>2018.75</td>\n      <td>未改装</td>\n      <td>NaN</td>\n      <td>7.568202</td>\n    </tr>\n    <tr>\n      <th>1099061</th>\n      <td>1207</td>\n      <td>北海道</td>\n      <td>西３条南</td>\n      <td>帯広</td>\n      <td>2.0</td>\n      <td>２ＬＤＫ</td>\n      <td>80.0</td>\n      <td>19.0</td>\n      <td>ＲＣ</td>\n      <td>住宅</td>\n      <td>住宅</td>\n      <td>商業地域</td>\n      <td>80.0</td>\n      <td>500.0</td>\n      <td>2016.50</td>\n      <td>未改装</td>\n      <td>NaN</td>\n      <td>7.204120</td>\n    </tr>\n    <tr>\n      <th>1039968</th>\n      <td>1105</td>\n      <td>北海道</td>\n      <td>平岸２条</td>\n      <td>南平岸</td>\n      <td>6.0</td>\n      <td>３ＬＤＫ</td>\n      <td>90.0</td>\n      <td>24.0</td>\n      <td>NaN</td>\n      <td>住宅</td>\n      <td>住宅</td>\n      <td>近隣商業地域</td>\n      <td>80.0</td>\n      <td>300.0</td>\n      <td>2018.99</td>\n      <td>改装済</td>\n      <td>NaN</td>\n      <td>7.447158</td>\n    </tr>\n    <tr>\n      <th>1072923</th>\n      <td>1202</td>\n      <td>北海道</td>\n      <td>梁川町</td>\n      <td>五稜郭</td>\n      <td>45.0</td>\n      <td>２ＬＤＫ</td>\n      <td>70.0</td>\n      <td>9.0</td>\n      <td>ＲＣ</td>\n      <td>住宅</td>\n      <td>住宅</td>\n      <td>商業地域</td>\n      <td>80.0</td>\n      <td>400.0</td>\n      <td>2015.25</td>\n      <td>未改装</td>\n      <td>NaN</td>\n      <td>7.322219</td>\n    </tr>\n    <tr>\n      <th>...</th>\n      <td>...</td>\n      <td>...</td>\n      <td>...</td>\n      <td>...</td>\n      <td>...</td>\n      <td>...</td>\n      <td>...</td>\n      <td>...</td>\n      <td>...</td>\n      <td>...</td>\n      <td>...</td>\n      <td>...</td>\n      <td>...</td>\n      <td>...</td>\n      <td>...</td>\n      <td>...</td>\n      <td>...</td>\n      <td>...</td>\n    </tr>\n    <tr>\n      <th>47006116</th>\n      <td>47211</td>\n      <td>沖縄県</td>\n      <td>泡瀬</td>\n      <td>NaN</td>\n      <td>NaN</td>\n      <td>３ＬＤＫ</td>\n      <td>115.0</td>\n      <td>15.0</td>\n      <td>ＲＣ</td>\n      <td>住宅</td>\n      <td>住宅</td>\n      <td>第１種中高層住居専用地域</td>\n      <td>60.0</td>\n      <td>200.0</td>\n      <td>2016.50</td>\n      <td>未改装</td>\n      <td>NaN</td>\n      <td>7.230449</td>\n    </tr>\n    <tr>\n      <th>47016927</th>\n      <td>47201</td>\n      <td>沖縄県</td>\n      <td>宇栄原</td>\n      <td>赤嶺</td>\n      <td>7.0</td>\n      <td>３ＬＤＫ</td>\n      <td>65.0</td>\n      <td>30.0</td>\n      <td>ＲＣ</td>\n      <td>住宅</td>\n      <td>NaN</td>\n      <td>NaN</td>\n      <td>NaN</td>\n      <td>NaN</td>\n      <td>2011.75</td>\n      <td>改装済</td>\n      <td>NaN</td>\n      <td>7.176091</td>\n    </tr>\n    <tr>\n      <th>47027045</th>\n      <td>47201</td>\n      <td>沖縄県</td>\n      <td>おもろまち</td>\n      <td>おもろまち</td>\n      <td>12.0</td>\n      <td>２ＬＤＫ</td>\n      <td>65.0</td>\n      <td>22.0</td>\n      <td>ＲＣ</td>\n      <td>住宅</td>\n      <td>NaN</td>\n      <td>商業地域</td>\n      <td>80.0</td>\n      <td>400.0</td>\n      <td>2009.25</td>\n      <td>改装済</td>\n      <td>NaN</td>\n      <td>7.477121</td>\n    </tr>\n    <tr>\n      <th>47001625</th>\n      <td>47201</td>\n      <td>沖縄県</td>\n      <td>牧志</td>\n      <td>牧志</td>\n      <td>1.0</td>\n      <td>２ＬＤＫ</td>\n      <td>85.0</td>\n      <td>11.0</td>\n      <td>ＲＣ</td>\n      <td>住宅</td>\n      <td>その他</td>\n      <td>商業地域</td>\n      <td>NaN</td>\n      <td>NaN</td>\n      <td>2017.50</td>\n      <td>未改装</td>\n      <td>NaN</td>\n      <td>7.748188</td>\n    </tr>\n    <tr>\n      <th>47001939</th>\n      <td>47201</td>\n      <td>沖縄県</td>\n      <td>寄宮</td>\n      <td>安里</td>\n      <td>21.0</td>\n      <td>３ＬＤＫ</td>\n      <td>55.0</td>\n      <td>46.0</td>\n      <td>ＳＲＣ</td>\n      <td>NaN</td>\n      <td>その他</td>\n      <td>第１種中高層住居専用地域</td>\n      <td>60.0</td>\n      <td>200.0</td>\n      <td>2019.99</td>\n      <td>NaN</td>\n      <td>NaN</td>\n      <td>6.662758</td>\n    </tr>\n  </tbody>\n</table>\n<p>651975 rows × 18 columns</p>\n</div>"
     },
     "metadata": {},
     "execution_count": 124
    }
   ],
   "source": [
    "df = data_pre(df)\n",
    "df.info()\n",
    "df"
   ]
  },
  {
   "cell_type": "code",
   "execution_count": 125,
   "metadata": {
    "tags": []
   },
   "outputs": [
    {
     "output_type": "stream",
     "name": "stdout",
     "text": [
      "[LightGBM] [Warning] Auto-choosing col-wise multi-threading, the overhead of testing was 0.040584 seconds.\n",
      "You can set `force_col_wise=true` to remove the overhead.\n",
      "[LightGBM] [Info] Total Bins 11643\n",
      "[LightGBM] [Info] Number of data points in the train set: 625333, number of used features: 17\n",
      "[LightGBM] [Info] Start training from score 7.216098\n",
      "Training until validation scores don't improve for 100 rounds\n",
      "C:\\Users\\hiro2\\AppData\\Local\\Programs\\Python\\Python39\\lib\\site-packages\\lightgbm\\basic.py:1433: UserWarning: Overriding the parameters from Reference Dataset.\n",
      "  _log_warning('Overriding the parameters from Reference Dataset.')\n",
      "C:\\Users\\hiro2\\AppData\\Local\\Programs\\Python\\Python39\\lib\\site-packages\\lightgbm\\basic.py:1245: UserWarning: categorical_column in param dict is overridden.\n",
      "  _log_warning('{} in param dict is overridden.'.format(cat_alias))\n",
      "Did not meet early stopping. Best iteration is:\n",
      "[992]\tvalid_0's l1: 0.0791934\n"
     ]
    }
   ],
   "source": [
    "import lightgbm as lgb\n",
    "from sklearn.model_selection import train_test_split\n",
    "from sklearn.metrics import mean_absolute_error as mae\n",
    "\n",
    "# df_train, df_val = train_test_split(df, test_size=0.2)\n",
    "\n",
    "df_train = df[df[\"取引時点\"] < 2019.99]\n",
    "df_val = df[df[\"取引時点\"] >= 2019.99]\n",
    "\n",
    "col = \"取引価格（総額）_log\"\n",
    "train_y = df_train[col]\n",
    "train_x = df_train.drop(col, axis=1)\n",
    "\n",
    "val_y = df_val[col]\n",
    "val_x = df_val.drop(col, axis=1)\n",
    "\n",
    "trains = lgb.Dataset(train_x, train_y)\n",
    "valids = lgb.Dataset(val_x, val_y)\n",
    "\n",
    "params = {\n",
    "    \"objective\": \"regression\",\n",
    "    \"metrics\": \"mae\"\n",
    "}\n",
    "\n",
    "model = lgb.train(params, trains, valid_sets=valids, num_boost_round=1000, early_stopping_rounds=100, verbose_eval=-1)\n"
   ]
  },
  {
   "cell_type": "code",
   "execution_count": 126,
   "metadata": {},
   "outputs": [
    {
     "output_type": "execute_result",
     "data": {
      "text/plain": [
       "0.07919337738280226"
      ]
     },
     "metadata": {},
     "execution_count": 126
    }
   ],
   "source": [
    "vals = model.predict(val_x)\n",
    "mae(vals, val_y)"
   ]
  },
  {
   "cell_type": "code",
   "execution_count": 127,
   "metadata": {},
   "outputs": [],
   "source": [
    "df_test = pd.read_csv(\"test.csv\", index_col=0)\n",
    "\n",
    "df_test = data_pre(df_test)"
   ]
  },
  {
   "cell_type": "code",
   "execution_count": 128,
   "metadata": {},
   "outputs": [],
   "source": [
    "predict = model.predict(df_test)\n",
    "df_test[\"取引価格（総額）_log\"] = predict\n",
    "df_test[[\"取引価格（総額）_log\"]].to_csv(\"submit_submission.csv\")"
   ]
  },
  {
   "cell_type": "code",
   "execution_count": 129,
   "metadata": {},
   "outputs": [
    {
     "output_type": "execute_result",
     "data": {
      "text/plain": [
       "           importance\n",
       "地区名              9199\n",
       "最寄駅：名称           6519\n",
       "建築年              3071\n",
       "取引時点             2899\n",
       "面積（㎡）            2107\n",
       "最寄駅：距離（分）        1863\n",
       "間取り               866\n",
       "市区町村コード           747\n",
       "都道府県名             570\n",
       "改装                525\n",
       "容積率（％）            378\n",
       "都市計画              353\n",
       "建ぺい率（％）           191\n",
       "取引の事情等            155\n",
       "用途                114\n",
       "建物の構造             103\n",
       "今後の利用目的           100"
      ],
      "text/html": "<div>\n<style scoped>\n    .dataframe tbody tr th:only-of-type {\n        vertical-align: middle;\n    }\n\n    .dataframe tbody tr th {\n        vertical-align: top;\n    }\n\n    .dataframe thead th {\n        text-align: right;\n    }\n</style>\n<table border=\"1\" class=\"dataframe\">\n  <thead>\n    <tr style=\"text-align: right;\">\n      <th></th>\n      <th>importance</th>\n    </tr>\n  </thead>\n  <tbody>\n    <tr>\n      <th>地区名</th>\n      <td>9199</td>\n    </tr>\n    <tr>\n      <th>最寄駅：名称</th>\n      <td>6519</td>\n    </tr>\n    <tr>\n      <th>建築年</th>\n      <td>3071</td>\n    </tr>\n    <tr>\n      <th>取引時点</th>\n      <td>2899</td>\n    </tr>\n    <tr>\n      <th>面積（㎡）</th>\n      <td>2107</td>\n    </tr>\n    <tr>\n      <th>最寄駅：距離（分）</th>\n      <td>1863</td>\n    </tr>\n    <tr>\n      <th>間取り</th>\n      <td>866</td>\n    </tr>\n    <tr>\n      <th>市区町村コード</th>\n      <td>747</td>\n    </tr>\n    <tr>\n      <th>都道府県名</th>\n      <td>570</td>\n    </tr>\n    <tr>\n      <th>改装</th>\n      <td>525</td>\n    </tr>\n    <tr>\n      <th>容積率（％）</th>\n      <td>378</td>\n    </tr>\n    <tr>\n      <th>都市計画</th>\n      <td>353</td>\n    </tr>\n    <tr>\n      <th>建ぺい率（％）</th>\n      <td>191</td>\n    </tr>\n    <tr>\n      <th>取引の事情等</th>\n      <td>155</td>\n    </tr>\n    <tr>\n      <th>用途</th>\n      <td>114</td>\n    </tr>\n    <tr>\n      <th>建物の構造</th>\n      <td>103</td>\n    </tr>\n    <tr>\n      <th>今後の利用目的</th>\n      <td>100</td>\n    </tr>\n  </tbody>\n</table>\n</div>"
     },
     "metadata": {},
     "execution_count": 129
    }
   ],
   "source": [
    "pd.DataFrame(model.feature_importance(), index=val_x.columns, columns=[\"importance\"]).sort_values(\"importance\", ascending=False)"
   ]
  },
  {
   "cell_type": "code",
   "execution_count": null,
   "metadata": {},
   "outputs": [],
   "source": []
  }
 ]
}